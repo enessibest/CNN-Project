{
 "cells": [
  {
   "cell_type": "code",
   "execution_count": 1,
   "id": "d4c9b70c",
   "metadata": {},
   "outputs": [],
   "source": [
    "import pandas as pd\n",
    "import numpy as np\n",
    "import matplotlib.pyplot as plt\n",
    "import seaborn as sns"
   ]
  },
  {
   "cell_type": "code",
   "execution_count": 2,
   "id": "672b9761",
   "metadata": {},
   "outputs": [
    {
     "name": "stdout",
     "output_type": "stream",
     "text": [
      "Downloading data from https://storage.googleapis.com/tensorflow/tf-keras-datasets/mnist.npz\n",
      "11493376/11490434 [==============================] - 1s 0us/step\n",
      "11501568/11490434 [==============================] - 1s 0us/step\n",
      "Train: X = (60000, 28, 28), y = (60000,)\n",
      "Test: X = (10000, 28, 28), y = (10000,)\n"
     ]
    }
   ],
   "source": [
    "from keras.datasets import mnist \n",
    "\n",
    "(trainsetX, trainsety),(testsetX,testsety) = mnist.load_data()\n",
    "\n",
    "print('Train: X = {}, y = {}'.format(trainsetX.shape, trainsety.shape)) \n",
    "print('Test: X = {}, y = {}'.format(testsetX.shape, testsety.shape))"
   ]
  },
  {
   "cell_type": "code",
   "execution_count": 7,
   "id": "7e1301d4",
   "metadata": {},
   "outputs": [
    {
     "data": {
      "image/png": "[encoded data removed]",
      "text/plain": [
       "<Figure size 432x288 with 1 Axes>"
      ]
     },
     "metadata": {
      "needs_background": "light"
     },
     "output_type": "display_data"
    }
   ],
   "source": [
    "plt.imshow (trainsetX[60])\n",
    "plt.show()"
   ]
  },
  {
   "cell_type": "code",
   "execution_count": 11,
   "id": "4e8a999f",
   "metadata": {},
   "outputs": [
    {
     "name": "stdout",
     "output_type": "stream",
     "text": [
      "[[  0   0   0   0   0   0   0   0   0   0   0   0   0   0   0   0   0   0\n",
      "    0   0   0   0   0   0   0   0   0   0]\n",
      " [  0   0   0   0   0   0   0   0   0   0   0   0   0   0   0   0   0   0\n",
      "    0   0   0   0   0   0   0   0   0   0]\n",
      " [  0   0   0   0   0   0   0   0   0   0   0   0   0   0   0   0   0   0\n",
      "    0   0   0   0   0   0   0   0   0   0]\n",
      " [  0   0   0   0   0   0   0   0   0   0   0   0   0   0   0   0   0   0\n",
      "    0   0   0   0   0   0   0   0   0   0]\n",
      " [  0   0   0   0   0   0   0   0   0   0   0   0   0   0   0   0   0   0\n",
      "    0   0   0   0   0   0   0   0   0   0]\n",
      " [  0   0   0   0   0   0   0   0   0  53   0   0   0   0   0   0   0   0\n",
      "    0  84  21   0   0   0   0   0   0   0]\n",
      " [  0   0   0   0   0   0   0   0  71 235 213   5   0   0   0   0   0   0\n",
      "   88 248 169   0   0   0   0   0   0   0]\n",
      " [  0   0   0   0   0   0   0  72 234 253 253   6   0   0   0   0   0   0\n",
      "   81 246 238 161   0   0   0   0   0   0]\n",
      " [  0   0   0   0   0   0  11 201 253 251 147   2   0   0   0   0   0   0\n",
      "    0 220 253 217  13   0   0   0   0   0]\n",
      " [  0   0   0   0   0   0 158 253 253 157   0   0   0   0   0   0   0   0\n",
      "    0 220 253 253  96   0   0   0   0   0]\n",
      " [  0   0   0   0   0  50 234 253 235  50   0   0   0   0   0   0   0   0\n",
      "    0 220 253 253  96   0   0   0   0   0]\n",
      " [  0   0   0   0  51 239 253 253  85   0   0   0   0   0   0   0   0   0\n",
      "    0 160 253 253 229   0   0   0   0   0]\n",
      " [  0   0   0   0 118 253 253 204   9   0   0   0   0   0   0   0   0   0\n",
      "    0   9 205 253 232   0   0   0   0   0]\n",
      " [  0   0   0   0 229 253 233  70   0   0   0   0   0   0   0   0   0   0\n",
      "    0   0 199 253 238  32   0   0   0   0]\n",
      " [  0   0   0   0 254 253 177   0   0   0   0   0   0   0   0   0   0  24\n",
      "   49  49 210 253 253 216   0   0   0   0]\n",
      " [  0   0   0   0 254 253 227 135  28  28  28  28  77 165 165 165 165 208\n",
      "  253 253 253 253 253 238   0   0   0   0]\n",
      " [  0   0   0   0 173 253 253 253 253 253 253 253 253 253 253 253 253 253\n",
      "  253 253 253 253 241  50   0   0   0   0]\n",
      " [  0   0   0   0   0 166 253 253 253 253 253 253 253 253 253 253 253 192\n",
      "  129 129 227 253 165   0   0   0   0   0]\n",
      " [  0   0   0   0   0   5  13 118 150 150 150  91  62 113  13  13  13   7\n",
      "    0   0 199 253  96   0   0   0   0   0]\n",
      " [  0   0   0   0   0   0   0   0   0   0   0   0   0   0   0   0   0   0\n",
      "    0  45 229 253  96   0   0   0   0   0]\n",
      " [  0   0   0   0   0   0   0   0   0   0   0   0   0   0   0   0   0   0\n",
      "    0   0 199 253  96   0   0   0   0   0]\n",
      " [  0   0   0   0   0   0   0   0   0   0   0   0   0   0   0   0   0   0\n",
      "    0   0 177 201  28   0   0   0   0   0]\n",
      " [  0   0   0   0   0   0   0   0   0   0   0   0   0   0   0   0   0   0\n",
      "    0   0  24  28   0   0   0   0   0   0]\n",
      " [  0   0   0   0   0   0   0   0   0   0   0   0   0   0   0   0   0   0\n",
      "    0   0   0   0   0   0   0   0   0   0]\n",
      " [  0   0   0   0   0   0   0   0   0   0   0   0   0   0   0   0   0   0\n",
      "    0   0   0   0   0   0   0   0   0   0]\n",
      " [  0   0   0   0   0   0   0   0   0   0   0   0   0   0   0   0   0   0\n",
      "    0   0   0   0   0   0   0   0   0   0]\n",
      " [  0   0   0   0   0   0   0   0   0   0   0   0   0   0   0   0   0   0\n",
      "    0   0   0   0   0   0   0   0   0   0]\n",
      " [  0   0   0   0   0   0   0   0   0   0   0   0   0   0   0   0   0   0\n",
      "    0   0   0   0   0   0   0   0   0   0]]\n"
     ]
    }
   ],
   "source": [
    "print (trainsetX[60])"
   ]
  },
  {
   "cell_type": "code",
   "execution_count": 12,
   "id": "eed731cb",
   "metadata": {},
   "outputs": [],
   "source": [
    "import tensorflow as tf"
   ]
  },
  {
   "cell_type": "code",
   "execution_count": 13,
   "id": "bbd0bb53",
   "metadata": {},
   "outputs": [
    {
     "data": {
      "image/png": "[encoded data removed]",
      "text/plain": [
       "<Figure size 432x288 with 1 Axes>"
      ]
     },
     "metadata": {
      "needs_background": "light"
     },
     "output_type": "display_data"
    }
   ],
   "source": [
    "x_train = tf.keras.utils.normalize(trainsetX, axis=1)\n",
    "x_test =tf.keras.utils.normalize(testsetX, axis=1)\n",
    "plt.imshow(x_train[60])\n",
    "plt.show()"
   ]
  },
  {
   "cell_type": "code",
   "execution_count": 14,
   "id": "e264f417",
   "metadata": {},
   "outputs": [
    {
     "name": "stdout",
     "output_type": "stream",
     "text": [
      "[[0.         0.         0.         0.         0.         0.\n",
      "  0.         0.         0.         0.         0.         0.\n",
      "  0.         0.         0.         0.         0.         0.\n",
      "  0.         0.         0.         0.         0.         0.\n",
      "  0.         0.         0.         0.        ]\n",
      " [0.         0.         0.         0.         0.         0.\n",
      "  0.         0.         0.         0.         0.         0.\n",
      "  0.         0.         0.         0.         0.         0.\n",
      "  0.         0.         0.         0.         0.         0.\n",
      "  0.         0.         0.         0.        ]\n",
      " [0.         0.         0.         0.         0.         0.\n",
      "  0.         0.         0.         0.         0.         0.\n",
      "  0.         0.         0.         0.         0.         0.\n",
      "  0.         0.         0.         0.         0.         0.\n",
      "  0.         0.         0.         0.        ]\n",
      " [0.         0.         0.         0.         0.         0.\n",
      "  0.         0.         0.         0.         0.         0.\n",
      "  0.         0.         0.         0.         0.         0.\n",
      "  0.         0.         0.         0.         0.         0.\n",
      "  0.         0.         0.         0.        ]\n",
      " [0.         0.         0.         0.         0.         0.\n",
      "  0.         0.         0.         0.         0.         0.\n",
      "  0.         0.         0.         0.         0.         0.\n",
      "  0.         0.         0.         0.         0.         0.\n",
      "  0.         0.         0.         0.        ]\n",
      " [0.         0.         0.         0.         0.         0.\n",
      "  0.         0.         0.         0.08790765 0.         0.\n",
      "  0.         0.         0.         0.         0.         0.\n",
      "  0.         0.12535331 0.02332609 0.         0.         0.\n",
      "  0.         0.         0.         0.        ]\n",
      " [0.         0.         0.         0.         0.         0.\n",
      "  0.         0.         0.11203031 0.38977918 0.40089683 0.01350129\n",
      "  0.         0.         0.         0.         0.         0.\n",
      "  0.21906752 0.37009072 0.1877195  0.         0.         0.\n",
      "  0.         0.         0.         0.        ]\n",
      " [0.         0.         0.         0.         0.         0.\n",
      "  0.         0.10801816 0.36922666 0.41963461 0.47618262 0.01620155\n",
      "  0.         0.         0.         0.         0.         0.\n",
      "  0.2016417  0.36710612 0.26436237 0.17140244 0.         0.\n",
      "  0.         0.         0.         0.        ]\n",
      " [0.         0.         0.         0.         0.         0.\n",
      "  0.01599092 0.3015507  0.3992066  0.41631734 0.27667528 0.00540052\n",
      "  0.         0.         0.         0.         0.         0.\n",
      "  0.         0.32830629 0.28102387 0.23102068 0.01998189 0.\n",
      "  0.         0.         0.         0.        ]\n",
      " [0.         0.         0.         0.         0.         0.\n",
      "  0.2296878  0.37956382 0.3992066  0.26040567 0.         0.\n",
      "  0.         0.         0.         0.         0.         0.\n",
      "  0.         0.32830629 0.28102387 0.26934669 0.14755861 0.\n",
      "  0.         0.         0.         0.        ]\n",
      " [0.         0.         0.         0.         0.         0.07835037\n",
      "  0.34017054 0.37956382 0.37080455 0.08293174 0.         0.\n",
      "  0.         0.         0.         0.         0.         0.\n",
      "  0.         0.32830629 0.28102387 0.26934669 0.14755861 0.\n",
      "  0.         0.         0.         0.        ]\n",
      " [0.         0.         0.         0.         0.10682485 0.37451477\n",
      "  0.36779123 0.37956382 0.1341208  0.         0.         0.\n",
      "  0.         0.         0.         0.         0.         0.\n",
      "  0.         0.23876821 0.28102387 0.26934669 0.35198876 0.\n",
      "  0.         0.         0.         0.        ]\n",
      " [0.         0.         0.         0.         0.24716338 0.39645288\n",
      "  0.36779123 0.30605146 0.01420103 0.         0.         0.\n",
      "  0.         0.         0.         0.         0.         0.\n",
      "  0.         0.01343071 0.22770709 0.26934669 0.35659996 0.\n",
      "  0.         0.         0.         0.        ]\n",
      " [0.         0.         0.         0.         0.47966452 0.39645288\n",
      "  0.33871682 0.10501766 0.         0.         0.         0.\n",
      "  0.         0.         0.         0.         0.         0.\n",
      "  0.         0.         0.22104249 0.26934669 0.36582238 0.09790741\n",
      "  0.         0.         0.         0.        ]\n",
      " [0.         0.         0.         0.         0.53202964 0.39645288\n",
      "  0.25730849 0.         0.         0.         0.         0.\n",
      "  0.         0.         0.         0.         0.         0.06307888\n",
      "  0.12198078 0.07312276 0.23326092 0.26934669 0.38887841 0.66087501\n",
      "  0.         0.         0.         0.        ]\n",
      " [0.         0.         0.         0.         0.53202964 0.39645288\n",
      "  0.3299945  0.20253405 0.04418097 0.04644178 0.05270005 0.07560722\n",
      "  0.20743417 0.4025444  0.41854453 0.41854453 0.41854453 0.5466836\n",
      "  0.62981913 0.37755223 0.28102387 0.26934669 0.38887841 0.72818636\n",
      "  0.         0.         0.         0.        ]\n",
      " [0.         0.         0.         0.         0.36236665 0.39645288\n",
      "  0.36779123 0.37956382 0.3992066  0.41963461 0.47618262 0.68316527\n",
      "  0.68156942 0.61723475 0.64176828 0.64176828 0.64176828 0.6649565\n",
      "  0.62981913 0.37755223 0.28102387 0.26934669 0.37043358 0.15298033\n",
      "  0.         0.         0.         0.        ]\n",
      " [0.         0.         0.         0.         0.         0.26012323\n",
      "  0.36779123 0.37956382 0.3992066  0.41963461 0.47618262 0.68316527\n",
      "  0.68156942 0.61723475 0.64176828 0.64176828 0.64176828 0.50463102\n",
      "  0.32113308 0.19250687 0.25214395 0.26934669 0.25361635 0.\n",
      "  0.         0.         0.         0.        ]\n",
      " [0.         0.         0.         0.         0.         0.00783504\n",
      "  0.01889836 0.17702977 0.23668376 0.24879522 0.28232171 0.24572348\n",
      "  0.16702492 0.27568193 0.03297624 0.03297624 0.03297624 0.01839801\n",
      "  0.         0.         0.22104249 0.26934669 0.14755861 0.\n",
      "  0.         0.         0.         0.        ]\n",
      " [0.         0.         0.         0.         0.         0.\n",
      "  0.         0.         0.         0.         0.         0.\n",
      "  0.         0.         0.         0.         0.         0.\n",
      "  0.         0.06715356 0.25436548 0.26934669 0.14755861 0.\n",
      "  0.         0.         0.         0.        ]\n",
      " [0.         0.         0.         0.         0.         0.\n",
      "  0.         0.         0.         0.         0.         0.\n",
      "  0.         0.         0.         0.         0.         0.\n",
      "  0.         0.         0.22104249 0.26934669 0.14755861 0.\n",
      "  0.         0.         0.         0.        ]\n",
      " [0.         0.         0.         0.         0.         0.\n",
      "  0.         0.         0.         0.         0.         0.\n",
      "  0.         0.         0.         0.         0.         0.\n",
      "  0.         0.         0.19660563 0.2139869  0.04303793 0.\n",
      "  0.         0.         0.         0.        ]\n",
      " [0.         0.         0.         0.         0.         0.\n",
      "  0.         0.         0.         0.         0.         0.\n",
      "  0.         0.         0.         0.         0.         0.\n",
      "  0.         0.         0.02665839 0.02980912 0.         0.\n",
      "  0.         0.         0.         0.        ]\n",
      " [0.         0.         0.         0.         0.         0.\n",
      "  0.         0.         0.         0.         0.         0.\n",
      "  0.         0.         0.         0.         0.         0.\n",
      "  0.         0.         0.         0.         0.         0.\n",
      "  0.         0.         0.         0.        ]\n",
      " [0.         0.         0.         0.         0.         0.\n",
      "  0.         0.         0.         0.         0.         0.\n",
      "  0.         0.         0.         0.         0.         0.\n",
      "  0.         0.         0.         0.         0.         0.\n",
      "  0.         0.         0.         0.        ]\n",
      " [0.         0.         0.         0.         0.         0.\n",
      "  0.         0.         0.         0.         0.         0.\n",
      "  0.         0.         0.         0.         0.         0.\n",
      "  0.         0.         0.         0.         0.         0.\n",
      "  0.         0.         0.         0.        ]\n",
      " [0.         0.         0.         0.         0.         0.\n",
      "  0.         0.         0.         0.         0.         0.\n",
      "  0.         0.         0.         0.         0.         0.\n",
      "  0.         0.         0.         0.         0.         0.\n",
      "  0.         0.         0.         0.        ]\n",
      " [0.         0.         0.         0.         0.         0.\n",
      "  0.         0.         0.         0.         0.         0.\n",
      "  0.         0.         0.         0.         0.         0.\n",
      "  0.         0.         0.         0.         0.         0.\n",
      "  0.         0.         0.         0.        ]]\n"
     ]
    }
   ],
   "source": [
    "print (x_train[60])"
   ]
  },
  {
   "cell_type": "code",
   "execution_count": 15,
   "id": "8a58f1e4",
   "metadata": {},
   "outputs": [
    {
     "name": "stdout",
     "output_type": "stream",
     "text": [
      "(60000, 28, 28, 1)\n",
      "(10000, 28, 28, 1)\n"
     ]
    }
   ],
   "source": [
    "IMG_SIZE=28\n",
    "x_trainr=np.array(x_train).reshape(-1,IMG_SIZE,IMG_SIZE,1)\n",
    "x_testr=np.array(x_test).reshape(-1,IMG_SIZE,IMG_SIZE,1)\n",
    "print(x_trainr.shape)\n",
    "print(x_testr.shape)\n"
   ]
  },
  {
   "cell_type": "code",
   "execution_count": 16,
   "id": "6b8ec6bd",
   "metadata": {},
   "outputs": [],
   "source": [
    "from tensorflow.keras.models import Sequential\n",
    "from tensorflow.keras.layers import Dense, Activation,Flatten,Conv2D,MaxPooling2D\n"
   ]
  },
  {
   "cell_type": "code",
   "execution_count": 17,
   "id": "508be762",
   "metadata": {},
   "outputs": [],
   "source": [
    "model=Sequential()\n",
    "model.add(Conv2D(64,(3,3),input_shape= x_trainr.shape[1:]))\n",
    "model.add(Activation(\"relu\"))\n",
    "model.add(MaxPooling2D(pool_size=(2,2)))\n"
   ]
  },
  {
   "cell_type": "code",
   "execution_count": 18,
   "id": "1316d4df",
   "metadata": {},
   "outputs": [],
   "source": [
    "model=Sequential()\n",
    "model.add(Conv2D(64,(3,3),input_shape= x_trainr.shape[1:]))\n",
    "model.add(Activation(\"relu\"))\n",
    "model.add(MaxPooling2D(pool_size=(2,2)))"
   ]
  },
  {
   "cell_type": "code",
   "execution_count": 19,
   "id": "142ce163",
   "metadata": {},
   "outputs": [],
   "source": [
    "model=Sequential()\n",
    "model.add(Conv2D(64,(3,3),input_shape= x_trainr.shape[1:]))\n",
    "model.add(Activation(\"relu\"))\n",
    "model.add(MaxPooling2D(pool_size=(2,2)))"
   ]
  },
  {
   "cell_type": "code",
   "execution_count": 20,
   "id": "a8bc31ee",
   "metadata": {},
   "outputs": [],
   "source": [
    "model.add(Flatten())\n",
    "model.add(Dense(64))\n",
    "model.add(Activation(\"relu\"))\n"
   ]
  },
  {
   "cell_type": "code",
   "execution_count": 21,
   "id": "7d7ab346",
   "metadata": {},
   "outputs": [],
   "source": [
    "model.add(Dense(32))\n",
    "model.add(Activation(\"relu\"))\n"
   ]
  },
  {
   "cell_type": "code",
   "execution_count": 22,
   "id": "7348960b",
   "metadata": {},
   "outputs": [],
   "source": [
    "model.add(Dense(10))\n",
    "model.add(Activation(\"sigmoid\"))\n"
   ]
  },
  {
   "cell_type": "code",
   "execution_count": 23,
   "id": "a201c722",
   "metadata": {},
   "outputs": [
    {
     "name": "stdout",
     "output_type": "stream",
     "text": [
      "Model: \"sequential_2\"\n",
      "_________________________________________________________________\n",
      " Layer (type)                Output Shape              Param #   \n",
      "=================================================================\n",
      " conv2d_2 (Conv2D)           (None, 26, 26, 64)        640       \n",
      "                                                                 \n",
      " activation_2 (Activation)   (None, 26, 26, 64)        0         \n",
      "                                                                 \n",
      " max_pooling2d_2 (MaxPooling  (None, 13, 13, 64)       0         \n",
      " 2D)                                                             \n",
      "                                                                 \n",
      " flatten (Flatten)           (None, 10816)             0         \n",
      "                                                                 \n",
      " dense (Dense)               (None, 64)                692288    \n",
      "                                                                 \n",
      " activation_3 (Activation)   (None, 64)                0         \n",
      "                                                                 \n",
      " dense_1 (Dense)             (None, 32)                2080      \n",
      "                                                                 \n",
      " activation_4 (Activation)   (None, 32)                0         \n",
      "                                                                 \n",
      " dense_2 (Dense)             (None, 10)                330       \n",
      "                                                                 \n",
      " activation_5 (Activation)   (None, 10)                0         \n",
      "                                                                 \n",
      "=================================================================\n",
      "Total params: 695,338\n",
      "Trainable params: 695,338\n",
      "Non-trainable params: 0\n",
      "_________________________________________________________________\n"
     ]
    }
   ],
   "source": [
    "model.summary()"
   ]
  },
  {
   "cell_type": "code",
   "execution_count": 24,
   "id": "62a0b1fc",
   "metadata": {},
   "outputs": [],
   "source": [
    "model.compile(loss=\"sparse_categorical_crossentropy\",optimizer=\"adam\",metrics=['accuracy'])\n"
   ]
  },
  {
   "cell_type": "code",
   "execution_count": 25,
   "id": "5a963f45",
   "metadata": {},
   "outputs": [
    {
     "name": "stdout",
     "output_type": "stream",
     "text": [
      "Epoch 1/5\n",
      "1313/1313 [==============================] - 41s 30ms/step - loss: 0.2389 - accuracy: 0.9280 - val_loss: 0.1377 - val_accuracy: 0.9597\n",
      "Epoch 2/5\n",
      "1313/1313 [==============================] - 43s 32ms/step - loss: 0.0766 - accuracy: 0.9765 - val_loss: 0.0821 - val_accuracy: 0.9754\n",
      "Epoch 3/5\n",
      "1313/1313 [==============================] - 42s 32ms/step - loss: 0.0513 - accuracy: 0.9842 - val_loss: 0.0737 - val_accuracy: 0.9781\n",
      "Epoch 4/5\n",
      "1313/1313 [==============================] - 43s 32ms/step - loss: 0.0378 - accuracy: 0.9872 - val_loss: 0.0728 - val_accuracy: 0.9797\n",
      "Epoch 5/5\n",
      "1313/1313 [==============================] - 41s 31ms/step - loss: 0.0261 - accuracy: 0.9915 - val_loss: 0.0728 - val_accuracy: 0.9801\n"
     ]
    },
    {
     "data": {
      "text/plain": [
       "<keras.callbacks.History at 0x279745de250>"
      ]
     },
     "execution_count": 25,
     "metadata": {},
     "output_type": "execute_result"
    }
   ],
   "source": [
    "model.fit(x_trainr, trainsety, epochs=5,validation_split=0.3)"
   ]
  },
  {
   "cell_type": "code",
   "execution_count": 26,
   "id": "083dfa37",
   "metadata": {},
   "outputs": [
    {
     "data": {
      "text/plain": [
       "array([[5.76520562e-02, 1.03462189e-01, 8.08631241e-01, ...,\n",
       "        9.99999821e-01, 4.09893513e-01, 9.97791648e-01],\n",
       "       [4.06342328e-01, 9.45117354e-01, 9.99996603e-01, ...,\n",
       "        3.86935472e-03, 2.48047322e-01, 6.17444515e-04],\n",
       "       [8.90770078e-01, 9.99999285e-01, 4.40834165e-02, ...,\n",
       "        1.02972865e-01, 9.76357460e-01, 2.32543051e-01],\n",
       "       ...,\n",
       "       [1.30242407e-02, 9.47951913e-01, 1.61780715e-02, ...,\n",
       "        7.32372105e-01, 9.91306007e-01, 9.99958396e-01],\n",
       "       [3.03378701e-03, 4.27243710e-01, 2.73507833e-03, ...,\n",
       "        5.67337453e-01, 9.99210596e-01, 9.12912965e-01],\n",
       "       [8.03901076e-01, 3.29378366e-01, 2.61971951e-01, ...,\n",
       "        3.24666500e-04, 1.96589857e-01, 4.81158495e-04]], dtype=float32)"
      ]
     },
     "execution_count": 26,
     "metadata": {},
     "output_type": "execute_result"
    }
   ],
   "source": [
    "prediction = model.predict([x_testr])\n",
    "prediction"
   ]
  },
  {
   "cell_type": "code",
   "execution_count": 30,
   "id": "42a04546",
   "metadata": {},
   "outputs": [
    {
     "data": {
      "text/plain": [
       "6"
      ]
     },
     "execution_count": 30,
     "metadata": {},
     "output_type": "execute_result"
    }
   ],
   "source": [
    "np.argmax(prediction[100])"
   ]
  },
  {
   "cell_type": "code",
   "execution_count": 31,
   "id": "59f8772b",
   "metadata": {},
   "outputs": [
    {
     "data": {
      "text/plain": [
       "<matplotlib.image.AxesImage at 0x2793e9c94c0>"
      ]
     },
     "execution_count": 31,
     "metadata": {},
     "output_type": "execute_result"
    },
    {
     "data": {
      "image/png": "[encoded data removed]",
      "text/plain": [
       "<Figure size 432x288 with 1 Axes>"
      ]
     },
     "metadata": {
      "needs_background": "light"
     },
     "output_type": "display_data"
    }
   ],
   "source": [
    "plt.imshow(x_test[100])"
   ]
  },
  {
   "cell_type": "code",
   "execution_count": null,
   "id": "3bb9ded1",
   "metadata": {},
   "outputs": [],
   "source": []
  }
 ],
 "metadata": {
  "kernelspec": {
   "display_name": "Python 3 (ipykernel)",
   "language": "python",
   "name": "python3"
  },
  "language_info": {
   "codemirror_mode": {
    "name": "ipython",
    "version": 3
   },
   "file_extension": ".py",
   "mimetype": "text/x-python",
   "name": "python",
   "nbconvert_exporter": "python",
   "pygments_lexer": "ipython3",
   "version": "3.9.7"
  }
 },
 "nbformat": 4,
 "nbformat_minor": 5
}
